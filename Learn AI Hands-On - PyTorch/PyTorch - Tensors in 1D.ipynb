{
 "cells": [
  {
   "cell_type": "markdown",
   "id": "11f74ecc-060a-4177-be1b-a761a910bdeb",
   "metadata": {},
   "source": [
    "Imagine you have a row of boxes lined up in a straight line, and each box contains a number. This line of boxes is like a 1D tensor in PyTorch.\n",
    "\n",
    "\n",
    "# What is a Tensor?\n",
    "A tensor is just a fancy word for a container that holds numbers. In 1D, it's like a list of numbers arranged in a single line.\n",
    "\n",
    "# Why Use Tensors?\n",
    "Tensors are useful because they allow us to handle numbers in a structured way, which is important for things like machine learning, image processing, and scientific computations.\n",
    "\n",
    "# How is it Different from a Regular List?\n",
    "While a tensor might look like a regular list of numbers, it’s optimized for performance and can handle complex operations more efficiently.\n",
    "Tensors can also run on GPUs to make calculations faster.\n",
    "\n",
    "Example of a 1D Tensor:\n",
    "Imagine the numbers [2, 4, 6, 8]. In PyTorch, we could create a 1D tensor to represent this sequence:\n"
   ]
  },
  {
   "cell_type": "code",
   "execution_count": 2,
   "id": "e34eab3f-4615-4156-a94e-41919ee98ee0",
   "metadata": {},
   "outputs": [
    {
     "data": {
      "text/plain": [
       "tensor([2, 4, 6, 8])"
      ]
     },
     "execution_count": 2,
     "metadata": {},
     "output_type": "execute_result"
    }
   ],
   "source": [
    "import torch\n",
    "tensor = torch.tensor([2, 4, 6, 8])\n",
    "\n",
    "tensor"
   ]
  },
  {
   "cell_type": "markdown",
   "id": "424d0a69-9e5b-4a12-91fd-06871af4213c",
   "metadata": {},
   "source": [
    "# What Can we Do with It?\n",
    "\n",
    "Basic Math: We can add, subtract, multiply, or divide the numbers. \n"
   ]
  },
  {
   "cell_type": "code",
   "execution_count": 4,
   "id": "49563030-6461-4886-b535-09d615d6b4a7",
   "metadata": {},
   "outputs": [
    {
     "name": "stdout",
     "output_type": "stream",
     "text": [
      "tensor([ 4,  6,  8, 10])\n"
     ]
    }
   ],
   "source": [
    "print(tensor + 2) # Adds 2 to each number\n"
   ]
  },
  {
   "cell_type": "markdown",
   "id": "7eab25b8-77b8-43ca-a216-74248764fe28",
   "metadata": {},
   "source": [
    "Indexing: We can pick specific numbers from the tensor"
   ]
  },
  {
   "cell_type": "code",
   "execution_count": 6,
   "id": "7a984345-052c-4e2b-8773-69d847fa8bfe",
   "metadata": {},
   "outputs": [
    {
     "name": "stdout",
     "output_type": "stream",
     "text": [
      "tensor(4)\n"
     ]
    }
   ],
   "source": [
    "print(tensor[1]) # Gets the second number"
   ]
  },
  {
   "cell_type": "markdown",
   "id": "ef12a5b0-3976-4551-a02b-5eea1cfd1b1e",
   "metadata": {},
   "source": [
    "Length: We can find out how many numbers are in the tensor."
   ]
  },
  {
   "cell_type": "code",
   "execution_count": 8,
   "id": "86202470-3304-4881-8b9f-a1802a2dd7ca",
   "metadata": {},
   "outputs": [
    {
     "name": "stdout",
     "output_type": "stream",
     "text": [
      "4\n"
     ]
    }
   ],
   "source": [
    "print(len(tensor))  # Returns 4"
   ]
  },
  {
   "cell_type": "markdown",
   "id": "3a59bb37-e694-4550-8f07-06af333d7136",
   "metadata": {},
   "source": [
    "# Why is it Called 1D?\n",
    "The \"1D\" stands for one-dimensional, meaning the numbers are arranged in a single line. If it were 2D, the numbers would be arranged in rows and columns, like a grid.\n",
    "\n",
    "In short, a 1D tensor is like a supercharged list of numbers, designed to handle data efficiently and perform calculations quickly, especially when dealing with lots of numbers."
   ]
  },
  {
   "cell_type": "code",
   "execution_count": 10,
   "id": "cf809896-db4d-49f6-b7c0-5643292acfe3",
   "metadata": {},
   "outputs": [],
   "source": [
    "## importing the required libraries\n",
    "\n",
    "import torch \n",
    "import numpy as np \n",
    "import pandas as pd\n",
    "\n",
    "import matplotlib.pyplot as plt\n",
    "%matplotlib inline  "
   ]
  },
  {
   "cell_type": "code",
   "execution_count": 11,
   "id": "c5ab9880-6d95-4f44-b020-0e77415ef3ef",
   "metadata": {},
   "outputs": [
    {
     "data": {
      "text/plain": [
       "'2.5.0.dev20240808'"
      ]
     },
     "execution_count": 11,
     "metadata": {},
     "output_type": "execute_result"
    }
   ],
   "source": [
    "## checking the version of pytorch\n",
    "\n",
    "torch.__version__"
   ]
  },
  {
   "cell_type": "code",
   "execution_count": 12,
   "id": "e57c353e-1dc5-4377-920c-6a8ddf4f0cbc",
   "metadata": {},
   "outputs": [],
   "source": [
    "### function for plotting the vectors in co-ordinate system.\n",
    "\n",
    "# @param: Vectors = [{\"vector\": vector variable, \"name\": name of vector, \"color\": color of the vector on diagram}]\n",
    "    \n",
    "def plotVec(vectors):\n",
    "    ax = plt.axes()\n",
    "    \n",
    "    # For loop to draw the vectors\n",
    "    for vec in vectors:\n",
    "        ax.arrow(0, 0, *vec[\"vector\"], head_width = 0.05,color = vec[\"color\"], head_length = 0.1)\n",
    "        plt.text(*(vec[\"vector\"] + 0.1), vec[\"name\"])\n",
    "    \n",
    "    plt.ylim(-2,2)\n",
    "    plt.xlim(-2,2)"
   ]
  },
  {
   "cell_type": "markdown",
   "id": "a35efda3-f8cb-4b55-b0d9-ab26d2ab79f8",
   "metadata": {},
   "source": [
    "# Tensor Datatypes"
   ]
  },
  {
   "cell_type": "markdown",
   "id": "d19b8959-6610-4da2-88e6-f0ba86ac42cd",
   "metadata": {},
   "source": [
    "# Convert integer to tensor"
   ]
  },
  {
   "cell_type": "code",
   "execution_count": 15,
   "id": "cd6083a0-2095-4196-acc0-0fdb7e449e66",
   "metadata": {},
   "outputs": [
    {
     "name": "stdout",
     "output_type": "stream",
     "text": [
      "The dtype of tensor object after converting it to tensor:  torch.int64\n",
      "The type of tensor object after converting it to tensor:  torch.LongTensor\n"
     ]
    }
   ],
   "source": [
    "# Convert a integer list with length 5 to a tensor\n",
    "\n",
    "ints_to_tensor = torch.tensor([0, 1, 2, 3, 4])\n",
    "print(\"The dtype of tensor object after converting it to tensor: \", ints_to_tensor.dtype)\n",
    "print(\"The type of tensor object after converting it to tensor: \", ints_to_tensor.type())\n",
    "\n",
    "## As a result, the integer list has been converted to a long tensor."
   ]
  },
  {
   "cell_type": "code",
   "execution_count": 16,
   "id": "be8589e7-248a-46c4-b973-7ac3852e789f",
   "metadata": {},
   "outputs": [
    {
     "data": {
      "text/plain": [
       "torch.Tensor"
      ]
     },
     "execution_count": 16,
     "metadata": {},
     "output_type": "execute_result"
    }
   ],
   "source": [
    "type(ints_to_tensor)"
   ]
  },
  {
   "cell_type": "markdown",
   "id": "e2eb1a89-f9cb-4126-baa1-a56426e1b26b",
   "metadata": {},
   "source": [
    "# Convert float to tensor"
   ]
  },
  {
   "cell_type": "code",
   "execution_count": 18,
   "id": "0857549e-f526-4277-9f18-e6ce6e03c4b3",
   "metadata": {},
   "outputs": [
    {
     "name": "stdout",
     "output_type": "stream",
     "text": [
      "The dtype of tensor object after converting it to tensor:  torch.float32\n",
      "The type of tensor object after converting it to tensor:  torch.FloatTensor\n"
     ]
    }
   ],
   "source": [
    "# Convert a float list with length 5 to a tensor\n",
    "\n",
    "floats_to_tensor = torch.tensor([0.0, 1.0, 2.0, 3.0, 4.0])\n",
    "print(\"The dtype of tensor object after converting it to tensor: \", floats_to_tensor.dtype)\n",
    "print(\"The type of tensor object after converting it to tensor: \", floats_to_tensor.type())"
   ]
  },
  {
   "cell_type": "code",
   "execution_count": 19,
   "id": "b68eb352-c79b-4548-89a1-0d608a6000ec",
   "metadata": {},
   "outputs": [
    {
     "name": "stdout",
     "output_type": "stream",
     "text": [
      "The dtype of tensor object is:  torch.int64\n",
      "The type of tensor object is:  torch.LongTensor\n"
     ]
    }
   ],
   "source": [
    "list_floats=[0.0, 1.0, 2.0, 3.0, 4.0]\n",
    "\n",
    "floats_int_tensor=torch.tensor(list_floats,dtype=torch.int64)\n",
    "\n",
    "print(\"The dtype of tensor object is: \", floats_int_tensor.dtype)\n",
    "print(\"The type of tensor object is: \", floats_int_tensor.type())\n",
    "\n",
    "# The elements in the list that will be converted to tensor must have the same type."
   ]
  },
  {
   "cell_type": "markdown",
   "id": "f8e9ebef-bce4-4a5a-9bca-683cdbb04e82",
   "metadata": {},
   "source": [
    "# Convert integer to float tensor"
   ]
  },
  {
   "cell_type": "code",
   "execution_count": 21,
   "id": "515b99b8-6e83-48b5-a382-704427c762cb",
   "metadata": {},
   "outputs": [
    {
     "name": "stdout",
     "output_type": "stream",
     "text": [
      "The type of the new_float_tensor: torch.FloatTensor\n"
     ]
    }
   ],
   "source": [
    "# Convert a integer list with length 5 to float tensor\n",
    "\n",
    "new_float_tensor = torch.FloatTensor([0, 1, 2, 3, 4])\n",
    "new_float_tensor.type()\n",
    "print(\"The type of the new_float_tensor:\", new_float_tensor.type())"
   ]
  },
  {
   "cell_type": "code",
   "execution_count": 22,
   "id": "208ed283-adc3-4dd0-83aa-474c31dc9990",
   "metadata": {},
   "outputs": [
    {
     "data": {
      "text/plain": [
       "tensor([0., 1., 2., 3., 4.])"
      ]
     },
     "execution_count": 22,
     "metadata": {},
     "output_type": "execute_result"
    }
   ],
   "source": [
    "new_float_tensor = torch.FloatTensor([0, 1, 2, 3, 4])\n",
    "new_float_tensor"
   ]
  },
  {
   "cell_type": "code",
   "execution_count": 23,
   "id": "9be31895-58ba-4bc8-881d-35b8146882cb",
   "metadata": {},
   "outputs": [
    {
     "name": "stdout",
     "output_type": "stream",
     "text": [
      "The type of the new_float_tensor: torch.FloatTensor\n"
     ]
    }
   ],
   "source": [
    "# Another method to convert the integer list to float tensor\n",
    "\n",
    "old_int_tensor = torch.tensor([0, 1, 2, 3, 4])\n",
    "new_float_tensor = old_int_tensor.type(torch.FloatTensor)\n",
    "print(\"The type of the new_float_tensor:\", new_float_tensor.type())"
   ]
  },
  {
   "cell_type": "code",
   "execution_count": 24,
   "id": "436f18a5-2f52-4ab6-86b6-3060b9da7405",
   "metadata": {},
   "outputs": [
    {
     "name": "stdout",
     "output_type": "stream",
     "text": [
      "The size of the new_float_tensor:  torch.Size([5])\n",
      "The dimension of the new_float_tensor:  1\n"
     ]
    }
   ],
   "source": [
    "# Using the tensor_obj.size() & tensor_ndimension.size() methods\n",
    "\n",
    "print(\"The size of the new_float_tensor: \", new_float_tensor.size())\n",
    "print(\"The dimension of the new_float_tensor: \",new_float_tensor.ndimension())"
   ]
  },
  {
   "cell_type": "markdown",
   "id": "6eafdfcc-3ae5-4856-a294-3ccdbca96aee",
   "metadata": {},
   "source": [
    "# What is tensor.size()?\n",
    "Think of a tensor as a collection of numbers arranged in a certain shape. The size() method tells you how many numbers are in each \"row,\" \"column,\" or \"dimension\" of the tensor.\n",
    "\n",
    "For a 1D tensor (a single line of numbers, like [3, 5, 7]), size() will tell you how many numbers are in that line.\n"
   ]
  },
  {
   "cell_type": "code",
   "execution_count": 26,
   "id": "9227aee8-907f-48a6-9878-8864b796141f",
   "metadata": {},
   "outputs": [
    {
     "name": "stdout",
     "output_type": "stream",
     "text": [
      "torch.Size([3])\n"
     ]
    }
   ],
   "source": [
    "import torch\n",
    "tensor = torch.tensor([3, 5, 7])\n",
    "print(tensor.size()) "
   ]
  },
  {
   "cell_type": "markdown",
   "id": "27cda96a-3c6b-4a60-a6cc-d04563765449",
   "metadata": {},
   "source": [
    "# What is tensor.ndimension()?\n",
    "The ndimension() method tells you how many dimensions (or levels of arrangement) the tensor has.\n",
    "\n",
    "A 1D tensor has 1 dimension because the numbers are arranged in a straight line.\n"
   ]
  },
  {
   "cell_type": "code",
   "execution_count": 28,
   "id": "eabebbcf-6ddd-4457-89b8-da344f9812ac",
   "metadata": {},
   "outputs": [
    {
     "name": "stdout",
     "output_type": "stream",
     "text": [
      "1\n"
     ]
    }
   ],
   "source": [
    "print(tensor.ndimension())\n"
   ]
  },
  {
   "cell_type": "markdown",
   "id": "b760269d-5908-4051-8684-c65a2b15cc7a",
   "metadata": {},
   "source": [
    "# Summary:\n",
    "* tensor.size(): Tells us the shape or size of the tensor in each dimension.\n",
    "* tensor.ndimension(): Tells us how many dimensions the tensor has (1D, 2D, 3D, etc.).\n",
    "\n",
    "## In short\n",
    "> size(): \"How big is this in each direction?\"\n",
    "\n",
    "> ndimension(): \"How many directions (dimensions) are there?\""
   ]
  },
  {
   "cell_type": "markdown",
   "id": "0b21673f-f723-4ba5-8966-2567fd15a589",
   "metadata": {},
   "source": [
    "# What is view()?\n",
    "The view() method in PyTorch is used to reshape a tensor without changing the data inside it. Think of it as reorganizing the same set of numbers into a different arrangement.\n",
    "\n",
    "# Why Use view()?\n",
    "Imagine you have a box of chocolates arranged in a single line (1D), but you want to organize them into a grid (2D) to make them easier to see or work with. The view() method helps you do that.\n"
   ]
  },
  {
   "cell_type": "code",
   "execution_count": 31,
   "id": "9b96f06d-38c2-474a-85fc-65627c0ccda3",
   "metadata": {},
   "outputs": [
    {
     "data": {
      "text/plain": [
       "tensor([1, 2, 3, 4, 5, 6])"
      ]
     },
     "execution_count": 31,
     "metadata": {},
     "output_type": "execute_result"
    }
   ],
   "source": [
    "tensor = torch.tensor([1, 2, 3, 4, 5, 6])\n",
    "tensor"
   ]
  },
  {
   "cell_type": "markdown",
   "id": "8568fe70-27e7-4df5-b8c8-48e630568e07",
   "metadata": {},
   "source": [
    "# Reshape with view():\n",
    "\n",
    "reshaping this into a grid with 2 rows and 3 columns:"
   ]
  },
  {
   "cell_type": "code",
   "execution_count": 33,
   "id": "771b1d18-22fb-4e5e-b542-72c61cec583d",
   "metadata": {},
   "outputs": [
    {
     "name": "stdout",
     "output_type": "stream",
     "text": [
      "tensor([[1, 2, 3],\n",
      "        [4, 5, 6]])\n"
     ]
    }
   ],
   "source": [
    "reshaped = tensor.view(2, 3)\n",
    "print(reshaped)\n"
   ]
  },
  {
   "cell_type": "markdown",
   "id": "d9fe4396-af69-4755-b7c2-c333383e8e57",
   "metadata": {},
   "source": [
    "# Key Points to Remember:\n",
    "1. The Total Number of Elements Must Stay the Same:\n",
    "You can only reshape the tensor if the total number of elements remains unchanged.\n",
    "\n",
    "Example:\n",
    "* Original tensor: 6 elements ([1, 2, 3, 4, 5, 6]).\n",
    "* New shape: 2 rows × 3 columns = 6 elements.\n",
    "* If the numbers don’t match, you’ll get an error.\n",
    "\n",
    "2. Use -1 to Let PyTorch Calculate Automatically:\n",
    "If you know one dimension but not the other, you can use -1, and PyTorch will figure out the missing size.\n",
    "\n",
    "3. It Doesn’t Change the Original Tensor:\n",
    "The view() method creates a new tensor with the new shape. The original tensor remains unchanged unless you overwrite it.\n",
    "\n",
    "# When to Use view()?\n",
    "1. Reshaping Data for Computations:\n",
    "Machine learning models often expect data in a specific shape. view() helps you prepare the data.\n",
    "\n",
    "2. Organizing Numbers for Easier Understanding:\n",
    "It’s easier to understand a grid of numbers than a long list in some cases."
   ]
  },
  {
   "cell_type": "code",
   "execution_count": 35,
   "id": "0b00d2bf-ecdd-4933-b50f-ba237235a3ed",
   "metadata": {},
   "outputs": [
    {
     "name": "stdout",
     "output_type": "stream",
     "text": [
      "tensor([[1, 2],\n",
      "        [3, 4],\n",
      "        [5, 6]])\n"
     ]
    }
   ],
   "source": [
    "# Use -1 to Let PyTorch Calculate automatically \n",
    "\n",
    "tensor = torch.tensor([1, 2, 3, 4, 5, 6])\n",
    "reshaped = tensor.view(-1, 2)  # Automatically calculates rows\n",
    "print(reshaped)"
   ]
  },
  {
   "cell_type": "code",
   "execution_count": 36,
   "id": "fe253898-f6bc-4626-b016-11ba25193be3",
   "metadata": {},
   "outputs": [
    {
     "name": "stdout",
     "output_type": "stream",
     "text": [
      "tensor([[1, 2],\n",
      "        [3, 4],\n",
      "        [5, 6]])\n"
     ]
    }
   ],
   "source": [
    "## reshaping to different shape\n",
    "tensor = torch.tensor([1, 2, 3, 4, 5, 6])\n",
    "reshaped = tensor.view(3, 2)\n",
    "print(reshaped)\n"
   ]
  },
  {
   "cell_type": "code",
   "execution_count": 37,
   "id": "7da267cd-27ee-4d7f-811a-a6548663ed8d",
   "metadata": {},
   "outputs": [
    {
     "name": "stdout",
     "output_type": "stream",
     "text": [
      "Original Size:  torch.Size([5])\n",
      "Size after view method torch.Size([5, 1])\n"
     ]
    }
   ],
   "source": [
    "## Introducing the tensor_obj.view(row, column) method\n",
    "\n",
    "twoD_float_tensor = new_float_tensor.view(5, 1)\n",
    "print(\"Original Size: \", new_float_tensor.size())\n",
    "print(\"Size after view method\", twoD_float_tensor.size())"
   ]
  },
  {
   "cell_type": "markdown",
   "id": "9f1dcab1-1aa4-44f6-8fdf-c6bb1486f85b",
   "metadata": {},
   "source": [
    "# Convert a numpy array to a tensor"
   ]
  },
  {
   "cell_type": "code",
   "execution_count": 39,
   "id": "2668dd81-4a2d-4d37-9fa0-157bed4cc1a6",
   "metadata": {},
   "outputs": [
    {
     "name": "stdout",
     "output_type": "stream",
     "text": [
      "The dtype of new tensor:  torch.float64\n",
      "The type of new tensor:  torch.DoubleTensor\n"
     ]
    }
   ],
   "source": [
    "numpy_array = np.array([0.0, 1.0, 2.0, 3.0, 4.0])\n",
    "new_tensor = torch.from_numpy(numpy_array)\n",
    "\n",
    "print(\"The dtype of new tensor: \", new_tensor.dtype)\n",
    "print(\"The type of new tensor: \", new_tensor.type())"
   ]
  },
  {
   "cell_type": "markdown",
   "id": "15c0629f-fe92-4e85-94bc-6d93410828d8",
   "metadata": {},
   "source": [
    "# Convert a tensor to a numpy array"
   ]
  },
  {
   "cell_type": "code",
   "execution_count": 41,
   "id": "abe8f527-3966-4cc0-8c2a-afee1b913623",
   "metadata": {},
   "outputs": [
    {
     "name": "stdout",
     "output_type": "stream",
     "text": [
      "The numpy array from tensor:  [0. 1. 2. 3. 4.]\n",
      "The dtype of numpy array:  float64\n"
     ]
    }
   ],
   "source": [
    "back_to_numpy = new_tensor.numpy()\n",
    "print(\"The numpy array from tensor: \", back_to_numpy)\n",
    "print(\"The dtype of numpy array: \", back_to_numpy.dtype)"
   ]
  },
  {
   "cell_type": "markdown",
   "id": "c2d7994b-0985-4ad2-a0b7-99db68978490",
   "metadata": {},
   "source": [
    "# Convert a panda series to a tensor"
   ]
  },
  {
   "cell_type": "code",
   "execution_count": 43,
   "id": "82f0f7ec-6373-46ca-bacf-63dec6b0f88c",
   "metadata": {},
   "outputs": [
    {
     "name": "stdout",
     "output_type": "stream",
     "text": [
      "The new tensor from numpy array:  tensor([ 0.1000,  2.0000,  0.3000, 10.1000], dtype=torch.float64)\n",
      "The dtype of new tensor:  torch.float64\n",
      "The type of new tensor:  torch.DoubleTensor\n"
     ]
    }
   ],
   "source": [
    "pandas_series=pd.Series([0.1, 2, 0.3, 10.1])\n",
    "new_tensor=torch.from_numpy(pandas_series.values)\n",
    "print(\"The new tensor from numpy array: \", new_tensor)\n",
    "print(\"The dtype of new tensor: \", new_tensor.dtype)\n",
    "print(\"The type of new tensor: \", new_tensor.type())"
   ]
  },
  {
   "cell_type": "code",
   "execution_count": 44,
   "id": "c943050c-7745-477c-83c0-f42ab04f7bde",
   "metadata": {},
   "outputs": [
    {
     "name": "stdout",
     "output_type": "stream",
     "text": [
      "The new tensor points to numpy_array :  tensor([ 0.1000,  2.0000,  0.3000, 10.1000], dtype=torch.float64)\n",
      "and back to numpy array points to the tensor:  [0. 0. 0. 0. 0.]\n"
     ]
    }
   ],
   "source": [
    "# Set all elements in numpy array to zero \n",
    "numpy_array[:] = 0\n",
    "print(\"The new tensor points to numpy_array : \", new_tensor)\n",
    "print(\"and back to numpy array points to the tensor: \", back_to_numpy)"
   ]
  },
  {
   "cell_type": "markdown",
   "id": "30bad70f-afb2-4e18-8631-7da37ce72de3",
   "metadata": {},
   "source": [
    "# What is item()?\n",
    "The item() method is used to extract a single number (a Python scalar) from a tensor that contains only one value.\n",
    "\n",
    "# Why Use item()?\n",
    "Sometimes, after performing calculations, you end up with a tensor that has just one number inside it. The item() method is like saying:\n",
    "\n",
    "> \"Give me just the number, not the tensor.\"\n"
   ]
  },
  {
   "cell_type": "code",
   "execution_count": 46,
   "id": "1bba80f6-cfeb-4792-969e-e7646af50e2a",
   "metadata": {},
   "outputs": [
    {
     "data": {
      "text/plain": [
       "tensor([42])"
      ]
     },
     "execution_count": 46,
     "metadata": {},
     "output_type": "execute_result"
    }
   ],
   "source": [
    "# Single-Value Tensor:\n",
    "\n",
    "import torch\n",
    "tensor = torch.tensor([42])\n",
    "tensor"
   ]
  },
  {
   "cell_type": "markdown",
   "id": "e6347ee4-651f-4846-a39e-74515fad198f",
   "metadata": {},
   "source": [
    "## extract with item()\n",
    "number = tensor.item()\n",
    "print(number)\n"
   ]
  },
  {
   "cell_type": "markdown",
   "id": "0161b613-21b3-4f63-8254-63077d721ec1",
   "metadata": {},
   "source": [
    "# When Should we Use item()?\n",
    "1. For Single-Value Tensors:\n",
    "If a tensor has only one value, item() extracts it as a plain number.\n",
    "\n",
    "2. After Calculations:\n",
    "Many operations in PyTorch (like finding the maximum or minimum) can return a tensor with a single value. Use item() to get the number.\n",
    "\n",
    "3. When You Need a Plain Python Number:\n",
    "Sometimes, we need the number to use it with other Python functions or libraries that don’t work with tensors."
   ]
  },
  {
   "cell_type": "code",
   "execution_count": 49,
   "id": "5cdcc798-43b5-4ba9-8b76-7498febbbd05",
   "metadata": {},
   "outputs": [
    {
     "name": "stdout",
     "output_type": "stream",
     "text": [
      "3.140000104904175\n"
     ]
    }
   ],
   "source": [
    "tensor = torch.tensor(3.14)  # A tensor with one value\n",
    "print(tensor.item())\n"
   ]
  },
  {
   "cell_type": "code",
   "execution_count": 50,
   "id": "4f24fb16-90d0-4f01-8e90-55152f57d563",
   "metadata": {},
   "outputs": [
    {
     "name": "stdout",
     "output_type": "stream",
     "text": [
      "10\n"
     ]
    }
   ],
   "source": [
    "result = torch.tensor([10]).max()  # Result is a tensor with one value\n",
    "print(result.item()) "
   ]
  },
  {
   "cell_type": "markdown",
   "id": "16d79d2a-db70-415e-8eae-6f62c34909a6",
   "metadata": {},
   "source": [
    "# Key Points to Remember:\n",
    "1. It Only Works for Single-Value Tensors:\n",
    "If the tensor has more than one value, you’ll get an error.\n",
    "\n",
    "2. What Does It Return?\n",
    "* If the tensor holds an integer, item() returns a Python int.\n",
    "* If the tensor holds a decimal, item() returns a Python float.\n",
    "\n",
    "\n"
   ]
  },
  {
   "cell_type": "code",
   "execution_count": 52,
   "id": "ea4a9776-5952-41be-9c8c-1b37ea40ebb4",
   "metadata": {},
   "outputs": [
    {
     "data": {
      "text/plain": [
       "'---------------------------------------------------------------------------\\nRuntimeError                              Traceback (most recent call last)\\nCell In[82], line 2\\n      1 tensor = torch.tensor([1, 2, 3])\\n----> 2 print(tensor.item())\\n\\nRuntimeError: a Tensor with 3 elements cannot be converted to Scalar '"
      ]
     },
     "execution_count": 52,
     "metadata": {},
     "output_type": "execute_result"
    }
   ],
   "source": [
    "## tensor = torch.tensor([1, 2, 3])\n",
    "## print(tensor.item())  # Error: ValueError\n",
    "\"\"\"---------------------------------------------------------------------------\n",
    "RuntimeError                              Traceback (most recent call last)\n",
    "Cell In[82], line 2\n",
    "      1 tensor = torch.tensor([1, 2, 3])\n",
    "----> 2 print(tensor.item())\n",
    "\n",
    "RuntimeError: a Tensor with 3 elements cannot be converted to Scalar \"\"\""
   ]
  },
  {
   "cell_type": "code",
   "execution_count": 53,
   "id": "45b77261-d121-4079-955a-180a4aa0a46b",
   "metadata": {},
   "outputs": [
    {
     "name": "stdout",
     "output_type": "stream",
     "text": [
      "the first item is given by 0 the first tensor value is given by  tensor(0)\n",
      "the second item is given by 1 the second tensor value is given by  tensor(1)\n",
      "the third  item is given by 2 the third tensor value is given by  tensor(2)\n"
     ]
    }
   ],
   "source": [
    "this_tensor=torch.tensor([0,1, 2,3]) \n",
    "\n",
    "print(\"the first item is given by\",this_tensor[0].item(),\"the first tensor value is given by \",this_tensor[0])\n",
    "print(\"the second item is given by\",this_tensor[1].item(),\"the second tensor value is given by \",this_tensor[1])\n",
    "print(\"the third  item is given by\",this_tensor[2].item(),\"the third tensor value is given by \",this_tensor[2])"
   ]
  },
  {
   "cell_type": "markdown",
   "id": "b71f9842-9d45-4c4d-a072-54441987d991",
   "metadata": {},
   "source": [
    "# What is tolist()?\n",
    "The tolist() method is used to convert a PyTorch tensor into a regular Python list.\n",
    "\n",
    "Think of it as taking the numbers from the tensor and putting them into a plain Python list that we can use in other Python functions or programs.\n",
    "\n",
    "# Why Use tolist()?\n",
    "Tensors are great for mathematical computations, but sometimes we need the data in a simpler format, like a Python list, to:\n",
    "\n",
    "1. Work with Python libraries that don’t support tensors.\n",
    "2. Print or display the data in a familiar way.\n",
    "3. Perform operations that are easier to do with lists.\n",
    "\n",
    "\n"
   ]
  },
  {
   "cell_type": "markdown",
   "id": "5b94615d-fff6-4a88-9793-578fb0ca3d64",
   "metadata": {},
   "source": [
    "# Converting a 1D Tensor to a List"
   ]
  },
  {
   "cell_type": "code",
   "execution_count": 56,
   "id": "d2633d8f-1e69-4020-902b-6c103526daf6",
   "metadata": {},
   "outputs": [
    {
     "name": "stdout",
     "output_type": "stream",
     "text": [
      "[1, 2, 3, 4]\n"
     ]
    }
   ],
   "source": [
    "import torch\n",
    "tensor = torch.tensor([1, 2, 3, 4])\n",
    "python_list = tensor.tolist()\n",
    "print(python_list)\n"
   ]
  },
  {
   "cell_type": "code",
   "execution_count": 57,
   "id": "620c5d89-0d38-40cb-900a-5f7a4bc2f6c8",
   "metadata": {},
   "outputs": [
    {
     "name": "stdout",
     "output_type": "stream",
     "text": [
      "tensor: tensor([0, 1, 2, 3]) \n",
      "list: [0, 1, 2, 3]\n"
     ]
    }
   ],
   "source": [
    "torch_to_list=this_tensor.tolist()\n",
    "\n",
    "print('tensor:', this_tensor,\"\\nlist:\",torch_to_list)"
   ]
  },
  {
   "cell_type": "markdown",
   "id": "8cc675a8-2112-4f6e-b1b2-c491c54bb833",
   "metadata": {},
   "source": [
    "# Key Points to Remember:\n",
    "1. Works for Any Tensor Shape:\n",
    "Whether it’s a 1D, 2D, or multi-dimensional tensor, tolist() converts it to the equivalent nested list.\n",
    "\n",
    "2. Data Type Conversion:\n",
    "The numbers in the tensor are converted to Python’s native data types:\n",
    "* Integers (int) for whole numbers.\n",
    "* Floats (float) for decimal numbers.\n",
    "\n",
    "3. It Doesn’t Change the Original Tensor:\n",
    "The tolist() method creates a new list. The tensor itself remains unchanged.\n",
    "\n",
    "# When Should we Use tolist()?\n",
    "1. To Work with Python Functions or Libraries:\n",
    "Some Python libraries (like matplotlib for plotting) work better with lists than tensors.\n",
    "\n",
    "2. To Debug or Print Data:\n",
    "If we want to see our tensor data in a simple and readable format, convert it to a list.\n",
    "\n",
    "3. For Simpler Operations:\n",
    "\n",
    "If we’re doing basic tasks like looping through numbers, a list is often easier to work with than a tensor.\n"
   ]
  },
  {
   "cell_type": "markdown",
   "id": "3bc83f59-1567-4199-bcb1-1a9c64511c74",
   "metadata": {},
   "source": [
    "# What is Indexing and Slicing?\n",
    "Think of a PyTorch tensor as a collection of numbers arranged in a specific shape, like a row, grid, or even a stack of grids.\n",
    "\n",
    "* Indexing is like pointing to a specific box in the collection and saying, “I want this one.”\n",
    "* Slicing is like selecting a group of boxes and saying, “I want these ones.”\n",
    "\n",
    "# Why Use Indexing and Slicing?\n",
    "When working with tensors, we often don’t need all the data at once. we might want to:\n",
    "1. Pick a specific number.\n",
    "2. Extract a row, column, or smaller section of the tensor.\n",
    "3. Rearrange or manipulate parts of the data.\n",
    "\n"
   ]
  },
  {
   "cell_type": "code",
   "execution_count": 60,
   "id": "4fdf53da-1adf-4a3b-a197-511c5a996844",
   "metadata": {},
   "outputs": [
    {
     "name": "stdout",
     "output_type": "stream",
     "text": [
      "tensor(20)\n"
     ]
    }
   ],
   "source": [
    "tensor = torch.tensor([10, 20, 30, 40])\n",
    "print(tensor[1])  \n"
   ]
  },
  {
   "cell_type": "code",
   "execution_count": 61,
   "id": "3980f284-2ca1-4f06-8bd3-598babe79a35",
   "metadata": {},
   "outputs": [
    {
     "name": "stdout",
     "output_type": "stream",
     "text": [
      "tensor([20, 30])\n"
     ]
    }
   ],
   "source": [
    "tensor = torch.tensor([10, 20, 30, 40])\n",
    "print(tensor[1:3]) \n"
   ]
  },
  {
   "cell_type": "code",
   "execution_count": 62,
   "id": "1458ef31-e349-4332-a5f3-4bb55d699d98",
   "metadata": {},
   "outputs": [
    {
     "name": "stdout",
     "output_type": "stream",
     "text": [
      "tensor([10, 30, 50])\n"
     ]
    }
   ],
   "source": [
    "## Advanced slicing, where we skip the steps\n",
    "tensor = torch.tensor([10, 20, 30, 40, 50])\n",
    "print(tensor[::2]) \n"
   ]
  },
  {
   "cell_type": "markdown",
   "id": "251002b6-e2cb-4d01-b623-f3c2b104a76e",
   "metadata": {},
   "source": [
    "# Key Points to Remember:\n",
    "1. Indexing Starts at 0:\n",
    "The first element is at index 0, not 1.\n",
    "\n",
    "2. Ranges Exclude the End:\n",
    "In slicing, the range start:end includes start but excludes end.\n",
    "\n",
    "3. Use : for All Rows or Columns:\n",
    "* The : means “select everything in this dimension.”\n",
    "\n",
    "4. Works for Any Dimension:\n",
    "\n",
    "Indexing and slicing work the same way for 1D, 2D, or higher-dimensional tensors.\n"
   ]
  },
  {
   "cell_type": "code",
   "execution_count": 64,
   "id": "85ad510a-62b6-4a76-8542-8a3554eec2d2",
   "metadata": {},
   "outputs": [
    {
     "name": "stdout",
     "output_type": "stream",
     "text": [
      "The value on index 0: tensor(0)\n",
      "The value on index 1: tensor(1)\n",
      "The value on index 2: tensor(2)\n",
      "The value on index 3: tensor(3)\n",
      "The value on index 4: tensor(4)\n"
     ]
    }
   ],
   "source": [
    "# A tensor for showing how the indexs work on tensors\n",
    "\n",
    "index_tensor = torch.tensor([0, 1, 2, 3, 4])\n",
    "print(\"The value on index 0:\",index_tensor[0])\n",
    "print(\"The value on index 1:\",index_tensor[1])\n",
    "print(\"The value on index 2:\",index_tensor[2])\n",
    "print(\"The value on index 3:\",index_tensor[3])\n",
    "print(\"The value on index 4:\",index_tensor[4])"
   ]
  },
  {
   "cell_type": "code",
   "execution_count": 65,
   "id": "1edf035d-8255-46c9-8c36-bd044ef3fede",
   "metadata": {},
   "outputs": [
    {
     "data": {
      "text/plain": [
       "tensor([20,  1,  2,  3,  4])"
      ]
     },
     "execution_count": 65,
     "metadata": {},
     "output_type": "execute_result"
    }
   ],
   "source": [
    "# A tensor for showing how to change value according to the index\n",
    "\n",
    "tensor_sample = torch.tensor([20, 1, 2, 3, 4])\n",
    "tensor_sample"
   ]
  },
  {
   "cell_type": "code",
   "execution_count": 66,
   "id": "d652b347-228b-4610-8b5f-a23892d5a1da",
   "metadata": {},
   "outputs": [
    {
     "name": "stdout",
     "output_type": "stream",
     "text": [
      "Inital value on index 0: tensor(20)\n",
      "Modified tensor: tensor([100,   1,   2,   3,   4])\n"
     ]
    }
   ],
   "source": [
    "# Change the value on the index 0 to 100\n",
    "\n",
    "print(\"Inital value on index 0:\", tensor_sample[0])\n",
    "tensor_sample[0] = 100\n",
    "print(\"Modified tensor:\", tensor_sample)"
   ]
  },
  {
   "cell_type": "code",
   "execution_count": 67,
   "id": "2a5d4b18-5dbb-4c4f-bc58-04ca64dcf842",
   "metadata": {},
   "outputs": [
    {
     "name": "stdout",
     "output_type": "stream",
     "text": [
      "Inital value on index 4: tensor(4)\n",
      "Modified tensor: tensor([100,   1,   2,   3,   0])\n"
     ]
    }
   ],
   "source": [
    "# Change the value on the index 4 to 0\n",
    "\n",
    "print(\"Inital value on index 4:\", tensor_sample[4])\n",
    "tensor_sample[4] = 0\n",
    "print(\"Modified tensor:\", tensor_sample)"
   ]
  },
  {
   "cell_type": "code",
   "execution_count": 68,
   "id": "60a49e33-1e38-4a5f-9239-ba2a26165d07",
   "metadata": {},
   "outputs": [
    {
     "name": "stdout",
     "output_type": "stream",
     "text": [
      "Original tensor sample:  tensor([100,   1,   2,   3,   0])\n",
      "The subset of tensor sample: tensor([1, 2, 3])\n"
     ]
    }
   ],
   "source": [
    "# Slice tensor_sample\n",
    "\n",
    "subset_tensor_sample = tensor_sample[1:4]\n",
    "print(\"Original tensor sample: \", tensor_sample)\n",
    "print(\"The subset of tensor sample:\", subset_tensor_sample)"
   ]
  },
  {
   "cell_type": "code",
   "execution_count": 69,
   "id": "5e6345b9-f961-4ddb-a583-f4b8fc3168b8",
   "metadata": {},
   "outputs": [
    {
     "name": "stdout",
     "output_type": "stream",
     "text": [
      "Inital value on index 3 and index 4: tensor([3, 0])\n",
      "Modified tensor: tensor([100,   1,   2, 300, 400])\n"
     ]
    }
   ],
   "source": [
    "# Change the values on index 3 and index 4\n",
    "\n",
    "print(\"Inital value on index 3 and index 4:\", tensor_sample[3:5])\n",
    "tensor_sample[3:5] = torch.tensor([300.0, 400.0])\n",
    "print(\"Modified tensor:\", tensor_sample)"
   ]
  },
  {
   "cell_type": "code",
   "execution_count": 70,
   "id": "bd8fda61-5bfc-4b94-bb6e-8e5d92cab2a3",
   "metadata": {},
   "outputs": [
    {
     "name": "stdout",
     "output_type": "stream",
     "text": [
      "The inital tensor_sample tensor([100,   1,   2, 300, 400])\n",
      "The subset of tensor_sample with the values on index 3 and 4:  tensor([300, 400])\n"
     ]
    }
   ],
   "source": [
    "# Using variable to contain the selected index, and pass it to slice operation\n",
    "\n",
    "selected_indexes = [3, 4]\n",
    "subset_tensor_sample = tensor_sample[selected_indexes]\n",
    "print(\"The inital tensor_sample\", tensor_sample)\n",
    "print(\"The subset of tensor_sample with the values on index 3 and 4: \", subset_tensor_sample)"
   ]
  },
  {
   "cell_type": "code",
   "execution_count": 71,
   "id": "1188a86a-0772-49bb-9c4c-c218c5fb218d",
   "metadata": {},
   "outputs": [
    {
     "name": "stdout",
     "output_type": "stream",
     "text": [
      "The inital tensor_sample tensor([100,   1,   2, 300, 400])\n",
      "Modified tensor with one value:  tensor([   100, 100000,      2, 100000,    400])\n"
     ]
    }
   ],
   "source": [
    "#Using variable to assign the value to the selected indexes\n",
    "\n",
    "print(\"The inital tensor_sample\", tensor_sample)\n",
    "selected_indexes = [1, 3]\n",
    "tensor_sample[selected_indexes] = 100000\n",
    "print(\"Modified tensor with one value: \", tensor_sample)"
   ]
  },
  {
   "cell_type": "markdown",
   "id": "8368e17b-2669-411c-8071-0370220397f1",
   "metadata": {},
   "source": [
    "# Tensor Functions"
   ]
  },
  {
   "cell_type": "markdown",
   "id": "0516d7b8-9a27-4620-88d8-26226cf8ccb0",
   "metadata": {},
   "source": [
    "# What Are Tensor Functions?\n",
    "Tensor functions are like tools or commands that we can use to work with tensors. They help us in:\n",
    "1. Perform calculations (like addition or multiplication).\n",
    "2. Change the shape of tensors.\n",
    "3. Extract information (like the maximum value or the size).\n",
    "4. Transform tensors (like sorting or normalizing).\n",
    "\n",
    "Think of tensor functions as a toolbox that makes working with tensors easier and more efficient.\n",
    "\n",
    "# Why Are Tensor Functions Important?\n",
    "Tensors are used to represent data in PyTorch. To work with this data, you need ways to manipulate, analyze, and process it. Tensor functions let you do this without writing complex code from scratch.\n",
    "\n"
   ]
  },
  {
   "cell_type": "markdown",
   "id": "577daf68-5659-4169-8608-a9bd53f6e37b",
   "metadata": {},
   "source": [
    "# Statistical Functions\n",
    "\n",
    "# Find Max Value\n"
   ]
  },
  {
   "cell_type": "code",
   "execution_count": 75,
   "id": "34c69932-262c-419c-9d25-9ce2135f9700",
   "metadata": {},
   "outputs": [
    {
     "name": "stdout",
     "output_type": "stream",
     "text": [
      "tensor(50)\n"
     ]
    }
   ],
   "source": [
    "max_value = tensor.max()\n",
    "print(max_value)\n"
   ]
  },
  {
   "cell_type": "markdown",
   "id": "f95ca979-17ad-458a-8f45-787fa54841f9",
   "metadata": {},
   "source": [
    "# Find Min Value"
   ]
  },
  {
   "cell_type": "code",
   "execution_count": 77,
   "id": "2d3013bc-9b0f-4f73-bb9b-cbf7e9544c82",
   "metadata": {},
   "outputs": [
    {
     "name": "stdout",
     "output_type": "stream",
     "text": [
      "tensor(10)\n"
     ]
    }
   ],
   "source": [
    "min_value = tensor.min()\n",
    "print(min_value)  \n"
   ]
  },
  {
   "cell_type": "markdown",
   "id": "21cd6472-5a2d-400c-850c-2aa35ef47aac",
   "metadata": {},
   "source": [
    "# Find Mean Value"
   ]
  },
  {
   "cell_type": "code",
   "execution_count": 79,
   "id": "f3cfda71-e231-42fb-bea8-6c4a21a47c73",
   "metadata": {},
   "outputs": [
    {
     "name": "stdout",
     "output_type": "stream",
     "text": [
      "tensor(30.)\n"
     ]
    }
   ],
   "source": [
    "mean_value = tensor.float().mean()\n",
    "print(mean_value)  # Output: 2.5\n"
   ]
  },
  {
   "cell_type": "code",
   "execution_count": 80,
   "id": "8380d253-2307-445e-9f66-1565e464160e",
   "metadata": {},
   "outputs": [
    {
     "name": "stdout",
     "output_type": "stream",
     "text": [
      "Tensor example:  tensor([ 1., -1.,  1., -1.])\n"
     ]
    }
   ],
   "source": [
    "# Sample tensor for mathmatic calculation methods on tensor\n",
    "\n",
    "math_tensor = torch.tensor([1.0, -1.0, 1, -1])\n",
    "print(\"Tensor example: \", math_tensor)"
   ]
  },
  {
   "cell_type": "code",
   "execution_count": 81,
   "id": "56655a4d-5d2f-40dd-8b06-3513d354d459",
   "metadata": {},
   "outputs": [
    {
     "name": "stdout",
     "output_type": "stream",
     "text": [
      "The mean of math_tensor:  tensor(0.)\n"
     ]
    }
   ],
   "source": [
    "#Calculate the mean for math_tensor\n",
    "\n",
    "mean = math_tensor.mean()\n",
    "print(\"The mean of math_tensor: \", mean)"
   ]
  },
  {
   "cell_type": "markdown",
   "id": "0487c2b6-89fd-4715-b061-babdf288838f",
   "metadata": {},
   "source": [
    "# Find Standard Deviation"
   ]
  },
  {
   "cell_type": "code",
   "execution_count": 83,
   "id": "70628d74-8cb6-4761-ad4d-9c6a41260d83",
   "metadata": {},
   "outputs": [
    {
     "name": "stdout",
     "output_type": "stream",
     "text": [
      "The standard deviation of math_tensor:  tensor(1.1547)\n"
     ]
    }
   ],
   "source": [
    "#Calculate the standard deviation for math_tensor\n",
    "\n",
    "standard_deviation = math_tensor.std()\n",
    "print(\"The standard deviation of math_tensor: \", standard_deviation)"
   ]
  },
  {
   "cell_type": "code",
   "execution_count": 84,
   "id": "cc939184-6d97-4c03-9269-1eae1bb987b8",
   "metadata": {},
   "outputs": [
    {
     "name": "stdout",
     "output_type": "stream",
     "text": [
      "Tensor example:  tensor([1, 1, 3, 5, 5])\n"
     ]
    }
   ],
   "source": [
    "# Sample for introducing max and min methods\n",
    "\n",
    "max_min_tensor = torch.tensor([1, 1, 3, 5, 5])\n",
    "print(\"Tensor example: \", max_min_tensor)"
   ]
  },
  {
   "cell_type": "code",
   "execution_count": 85,
   "id": "c7670871-31cf-42c8-9ec7-db8274200e61",
   "metadata": {},
   "outputs": [
    {
     "name": "stdout",
     "output_type": "stream",
     "text": [
      "Maximum number in the tensor:  tensor(5)\n"
     ]
    }
   ],
   "source": [
    "# Method for finding the maximum value in the tensor\n",
    "\n",
    "max_val = max_min_tensor.max()\n",
    "print(\"Maximum number in the tensor: \", max_val)"
   ]
  },
  {
   "cell_type": "code",
   "execution_count": 86,
   "id": "6f7f2e09-311d-4c96-a922-e797fb99bf14",
   "metadata": {},
   "outputs": [
    {
     "data": {
      "text/plain": [
       "tensor(5)"
      ]
     },
     "execution_count": 86,
     "metadata": {},
     "output_type": "execute_result"
    }
   ],
   "source": [
    " max_min_tensor.max()"
   ]
  },
  {
   "cell_type": "code",
   "execution_count": 87,
   "id": "eca14c9e-aae7-450e-bc65-63e1fd11098f",
   "metadata": {},
   "outputs": [
    {
     "name": "stdout",
     "output_type": "stream",
     "text": [
      "Minimum number in the tensor:  tensor(1)\n"
     ]
    }
   ],
   "source": [
    "# Method for finding the minimum value in the tensor\n",
    "\n",
    "min_val = max_min_tensor.min()\n",
    "print(\"Minimum number in the tensor: \", min_val)"
   ]
  },
  {
   "cell_type": "code",
   "execution_count": 88,
   "id": "80a366d9-fdc1-45b2-a96a-2f111aff575a",
   "metadata": {},
   "outputs": [
    {
     "data": {
      "text/plain": [
       "tensor(1)"
      ]
     },
     "execution_count": 88,
     "metadata": {},
     "output_type": "execute_result"
    }
   ],
   "source": [
    "max_min_tensor.min()"
   ]
  },
  {
   "cell_type": "markdown",
   "id": "c7270a6e-91ae-4b90-bc56-03fd8197ab46",
   "metadata": {},
   "source": [
    "# Find Sin"
   ]
  },
  {
   "cell_type": "markdown",
   "id": "c8449999-cfe1-4e4b-9eec-400859690123",
   "metadata": {},
   "source": [
    "# Method for calculating the sin result of each element in the tensor\n",
    "\n",
    "pi_tensor = torch.tensor([0, np.pi/2, np.pi])\n",
    "sin = torch.sin(pi_tensor)\n",
    "print(\"The sin result of pi_tensor: \", sin)"
   ]
  },
  {
   "cell_type": "markdown",
   "id": "57191362-048d-421b-8196-3571cb93e33c",
   "metadata": {},
   "source": [
    "# Tensor Operations\n",
    "\n",
    "# Tensor Addition"
   ]
  },
  {
   "cell_type": "code",
   "execution_count": 92,
   "id": "9c7d9ab6-62db-4c53-b651-e14520f71ce7",
   "metadata": {},
   "outputs": [
    {
     "data": {
      "text/plain": [
       "tensor([1, 1])"
      ]
     },
     "execution_count": 92,
     "metadata": {},
     "output_type": "execute_result"
    }
   ],
   "source": [
    "# Create two sample tensors\n",
    "\n",
    "u = torch.tensor([1, 0])\n",
    "v = torch.tensor([0, 1])\n",
    "w = u+v\n",
    "w"
   ]
  },
  {
   "cell_type": "code",
   "execution_count": 93,
   "id": "2119009e-17a0-4890-929c-ed2f9234bdcf",
   "metadata": {},
   "outputs": [
    {
     "name": "stdout",
     "output_type": "stream",
     "text": [
      "Addition Result:  tensor([2, 3, 4, 0])\n"
     ]
    }
   ],
   "source": [
    "# tensor + scalar\n",
    "\n",
    "u = torch.tensor([1, 2, 3, -1])\n",
    "v = u + 1\n",
    "print (\"Addition Result: \", v)"
   ]
  },
  {
   "cell_type": "markdown",
   "id": "d2e690a8-38b1-4fee-a285-f0189a93234f",
   "metadata": {},
   "source": [
    "# Tensor Subtraction\n"
   ]
  },
  {
   "cell_type": "code",
   "execution_count": 95,
   "id": "944019d6-aa8d-47b9-8b47-09749913fd10",
   "metadata": {},
   "outputs": [
    {
     "data": {
      "text/plain": [
       "tensor([ 1, -1])"
      ]
     },
     "execution_count": 95,
     "metadata": {},
     "output_type": "execute_result"
    }
   ],
   "source": [
    "u = torch.tensor([1, 0])\n",
    "v = torch.tensor([0, 1])\n",
    "w = u - v \n",
    "w"
   ]
  },
  {
   "cell_type": "markdown",
   "id": "dbf29e88-103c-4785-b7ab-ba56e4b923a5",
   "metadata": {},
   "source": [
    "# Tensor Multiplication\n",
    "\n"
   ]
  },
  {
   "cell_type": "code",
   "execution_count": 97,
   "id": "2985f2a1-346c-45ce-9e39-9c6135243818",
   "metadata": {},
   "outputs": [
    {
     "name": "stdout",
     "output_type": "stream",
     "text": [
      "The result of 2 * u:  tensor([2, 4])\n"
     ]
    }
   ],
   "source": [
    "# tensor * scalar\n",
    "\n",
    "u = torch.tensor([1, 2])\n",
    "v = 2 * u\n",
    "print(\"The result of 2 * u: \", v)"
   ]
  },
  {
   "cell_type": "code",
   "execution_count": 98,
   "id": "3c25c537-a931-4e0c-8f21-50d5db9c2c7a",
   "metadata": {},
   "outputs": [
    {
     "name": "stdout",
     "output_type": "stream",
     "text": [
      "The result of u * v tensor([3, 4])\n"
     ]
    }
   ],
   "source": [
    "# tensor * tensor\n",
    "\n",
    "u = torch.tensor([1, 2])\n",
    "v = torch.tensor([3, 2])\n",
    "w = u * v\n",
    "print (\"The result of u * v\", w)"
   ]
  },
  {
   "cell_type": "markdown",
   "id": "950dc4c5-8dc0-4c2e-856e-ae0f31bd632e",
   "metadata": {},
   "source": [
    "# Dot Product "
   ]
  },
  {
   "cell_type": "code",
   "execution_count": 100,
   "id": "e5fbaf67-864a-405a-8a77-4dafd56f9208",
   "metadata": {},
   "outputs": [
    {
     "name": "stdout",
     "output_type": "stream",
     "text": [
      "Dot Product of u, v: tensor(7)\n"
     ]
    }
   ],
   "source": [
    "# Calculate dot product of u, v\n",
    "\n",
    "u = torch.tensor([1, 2])\n",
    "v = torch.tensor([3, 2])\n",
    "\n",
    "print(\"Dot Product of u, v:\", torch.dot(u,v))"
   ]
  },
  {
   "cell_type": "markdown",
   "id": "2907d280-d16a-403b-a04e-eb877a758f49",
   "metadata": {},
   "source": [
    "# What is torch.linspace()?\n",
    "The torch.linspace() function is used to create a tensor that contains numbers evenly spaced between two specified values.\n",
    "\n",
    "Think of it as drawing a straight line between two points and marking equal intervals along that line. Each mark becomes a number in the tensor.\n",
    "\n",
    "# Why Use torch.linspace()?\n",
    "* When we need a set of evenly spaced numbers for calculations or visualizations.\n",
    "* When we want to divide a range into smaller parts, like creating a timeline or sampling points.\n"
   ]
  },
  {
   "cell_type": "code",
   "execution_count": 102,
   "id": "652650fc-60c8-482d-99fa-3898a7ba08c5",
   "metadata": {},
   "outputs": [
    {
     "name": "stdout",
     "output_type": "stream",
     "text": [
      "First Try on linspace tensor([-2., -1.,  0.,  1.,  2.])\n"
     ]
    }
   ],
   "source": [
    "# First try on using linspace to create tensor\n",
    "\n",
    "len_5_tensor = torch.linspace(-2, 2, steps = 5)\n",
    "print (\"First Try on linspace\", len_5_tensor)"
   ]
  },
  {
   "cell_type": "code",
   "execution_count": 103,
   "id": "1acbf1a2-974b-45ab-b036-9ac13a176e51",
   "metadata": {},
   "outputs": [
    {
     "name": "stdout",
     "output_type": "stream",
     "text": [
      "Second Try on linspace tensor([-2.0000, -1.5000, -1.0000, -0.5000,  0.0000,  0.5000,  1.0000,  1.5000,\n",
      "         2.0000])\n"
     ]
    }
   ],
   "source": [
    "# Second try on using linspace to create tensor\n",
    "\n",
    "len_9_tensor = torch.linspace(-2, 2, steps = 9)\n",
    "print (\"Second Try on linspace\", len_9_tensor)"
   ]
  },
  {
   "cell_type": "code",
   "execution_count": 104,
   "id": "2204b762-04ca-47d9-8a32-2973ab1e21e6",
   "metadata": {},
   "outputs": [],
   "source": [
    "# Construct the tensor within 0 to 360 degree\n",
    "\n",
    "pi_tensor = torch.linspace(0, 2*np.pi, 100)\n",
    "sin_result = torch.sin(pi_tensor)"
   ]
  },
  {
   "cell_type": "code",
   "execution_count": 105,
   "id": "b925b17a-e98a-4469-9365-7d46992bd270",
   "metadata": {},
   "outputs": [
    {
     "data": {
      "text/plain": [
       "[<matplotlib.lines.Line2D at 0x1438a1910>]"
      ]
     },
     "execution_count": 105,
     "metadata": {},
     "output_type": "execute_result"
    }
   ],
   "source": [
    "# Plot sin_result\n",
    "\n",
    "plt.plot(pi_tensor.numpy(), sin_result.numpy())"
   ]
  },
  {
   "cell_type": "code",
   "execution_count": null,
   "id": "7d3247d4-30de-4701-a102-59f2bdb7966f",
   "metadata": {},
   "outputs": [],
   "source": []
  }
 ],
 "metadata": {
  "kernelspec": {
   "display_name": "Python 3 (ipykernel)",
   "language": "python",
   "name": "python3"
  },
  "language_info": {
   "codemirror_mode": {
    "name": "ipython",
    "version": 3
   },
   "file_extension": ".py",
   "mimetype": "text/x-python",
   "name": "python",
   "nbconvert_exporter": "python",
   "pygments_lexer": "ipython3",
   "version": "3.12.2"
  }
 },
 "nbformat": 4,
 "nbformat_minor": 5
}
